{
 "cells": [
  {
   "cell_type": "code",
   "execution_count": 1,
   "id": "10b55904",
   "metadata": {},
   "outputs": [],
   "source": [
    "from selenium import webdriver\n",
    "from selenium.webdriver.common.by import By\n",
    "from selenium.webdriver.common.keys import Keys\n",
    "import pandas as pd\n",
    "import time\n",
    "import bs4"
   ]
  },
  {
   "cell_type": "code",
   "execution_count": 2,
   "id": "215da8b9",
   "metadata": {},
   "outputs": [],
   "source": [
    "def total_data_data_cleansing (raw_data):\n",
    "    new_list = []\n",
    "    for i in range(len(raw_data)) :\n",
    "        data = raw_data[i]\n",
    "        frist_step = data.replace('ขายแล้ว','')\n",
    "        second_step = frist_step.replace('ชิ้น','')\n",
    "        thrid_step = second_step.replace('พัน','000')\n",
    "        fourth_step =thrid_step.replace('.','')\n",
    "        new_list.append(fourth_step)\n",
    "    return new_list #เฉพาะยอดขาย\n",
    "\n",
    "def price_data_data_cleansing (raw_data):\n",
    "    new_list = []\n",
    "    for i in range(len(raw_data)) :\n",
    "        data = raw_data[i]\n",
    "        frist_step = data.replace('฿','')\n",
    "        new_list.append(frist_step)\n",
    "    return new_list #เฉพาะราคา\n",
    "\n",
    "def number_of_page (text):\n",
    "    first = text[0].replace('1/','')\n",
    "    secound = int(first)\n",
    "    return secound #หาจำนวนหน้า\n",
    "\n",
    "def add_to_list_soup(raw_data):\n",
    "    list_raw_data = []\n",
    "    for i in raw_data:\n",
    "        list_raw_data.append(i.text)\n",
    "    return list_raw_data\n",
    "\n",
    "def append_to_list (first_list,second_list):\n",
    "    for i in range(len(second_list)):\n",
    "        first_list.append(second_list[i])"
   ]
  },
  {
   "cell_type": "code",
   "execution_count": 3,
   "id": "c484e020",
   "metadata": {},
   "outputs": [],
   "source": [
    "list_title_data = []\n",
    "list_clean_price_data = []\n",
    "list_clean_total_data = []\n",
    "\n",
    "total_class = 'r6HknA' #ยอดขาย\n",
    "price_class = 'vioxXd rVLWG6' #ราคา\n",
    "title_class = 'FDn--+' #คำอธิบายรายการสินค้า\n",
    "all_of_page_class = 'shopee-mini-page-controller__state' #หาจำนวนหน้า\n"
   ]
  },
  {
   "cell_type": "code",
   "execution_count": 4,
   "id": "527a521b",
   "metadata": {
    "scrolled": true
   },
   "outputs": [
    {
     "name": "stdout",
     "output_type": "stream",
     "text": [
      "เสื้อผู้ชาย\n"
     ]
    }
   ],
   "source": [
    "product = str(input()) #สินค้าที่ต้องการ"
   ]
  },
  {
   "cell_type": "code",
   "execution_count": 6,
   "id": "f7e5b9dc",
   "metadata": {},
   "outputs": [],
   "source": [
    "driver = webdriver.Chrome()\n",
    "website = 'https://shopee.co.th/search?keyword='+product+'&page='\n",
    "driver.get(website)\n",
    "time.sleep(1)\n",
    "thai_button = driver.find_element(by=By.XPATH, value='/html/body/div[2]/div[1]/div[1]/div/div[3]/div[1]/button')\n",
    "thai_button.click()\n",
    "\n",
    "driver.execute_script(\"document.body.style.zoom='10%'\")\n",
    "time.sleep(1)\n",
    "driver.execute_script(\"document.body.style.zoom='100%'\")\n",
    "data = driver.page_source\n",
    "\n",
    "soup = bs4.BeautifulSoup(data)\n",
    "\n",
    "all_of_page_data = soup.find_all('div',{'class':all_of_page_class})\n",
    "\n",
    "clean_all_of_page_class_data = number_of_page(add_to_list_soup(all_of_page_data))"
   ]
  },
  {
   "cell_type": "code",
   "execution_count": 8,
   "id": "3b8b3ed7",
   "metadata": {},
   "outputs": [],
   "source": [
    "for page in  range(0,clean_all_of_page_class_data) :\n",
    "    website = 'https://shopee.co.th/search?keyword='+product+'&page='+str(page)\n",
    "    driver.get(website)\n",
    "    driver.execute_script(\"document.body.style.zoom='10%'\")\n",
    "    time.sleep(2)\n",
    "    driver.execute_script(\"document.body.style.zoom='100%'\")\n",
    "    data = driver.page_source\n",
    "    soup = bs4.BeautifulSoup(data)\n",
    "    price_data = soup.find_all('div',{'class':price_class})\n",
    "    total_data = soup.find_all('div',{'class':total_class})\n",
    "    title_data = soup.find_all('div',{'class':title_class})\n",
    "    clean_title_data = add_to_list_soup(title_data)\n",
    "    clean_price_data= price_data_data_cleansing(add_to_list_soup(price_data))\n",
    "    clean_total_data = total_data_data_cleansing(add_to_list_soup(total_data))\n",
    "    append_to_list(list_title_data,clean_title_data)\n",
    "    append_to_list(list_clean_price_data,clean_price_data)\n",
    "    append_to_list(list_clean_total_data,clean_total_data)\n",
    "table_1 =  pd.DataFrame([list_title_data,list_clean_price_data,list_clean_total_data])\n",
    "table_2 = table_1.transpose()\n",
    "table_2.columns =  ['title','price','amount']"
   ]
  },
  {
   "cell_type": "code",
   "execution_count": 10,
   "id": "114f3316",
   "metadata": {},
   "outputs": [],
   "source": [
    "table_2.to_csv('output.csv', index = False, encoding = 'utf-8-sig')\n"
   ]
  },
  {
   "cell_type": "code",
   "execution_count": null,
   "id": "18bb2ae8",
   "metadata": {},
   "outputs": [],
   "source": []
  }
 ],
 "metadata": {
  "kernelspec": {
   "display_name": "Python 3 (ipykernel)",
   "language": "python",
   "name": "python3"
  },
  "language_info": {
   "codemirror_mode": {
    "name": "ipython",
    "version": 3
   },
   "file_extension": ".py",
   "mimetype": "text/x-python",
   "name": "python",
   "nbconvert_exporter": "python",
   "pygments_lexer": "ipython3",
   "version": "3.9.12"
  }
 },
 "nbformat": 4,
 "nbformat_minor": 5
}
